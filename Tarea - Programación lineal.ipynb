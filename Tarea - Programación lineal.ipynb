{
 "cells": [
  {
   "cell_type": "markdown",
   "metadata": {},
   "source": [
    "## Michelle Alejandra Gómez López"
   ]
  },
  {
   "cell_type": "markdown",
   "metadata": {},
   "source": [
    "741902"
   ]
  },
  {
   "cell_type": "markdown",
   "metadata": {},
   "source": [
    "# Tarea - Programación lineal"
   ]
  },
  {
   "cell_type": "markdown",
   "metadata": {},
   "source": [
    "### Diseño de la Dieta Óptima\n",
    "\n",
    "Se quiere producir comida para gatos de la manera más barata, no obstante se debe también asegurar que se cumplan los datos requeridos de analisis nutricional. Por lo que se quiere variar la cantidad de cada ingrediente para cumplir con los estandares nutricionales. Los requisitos que se tienen es que en $100$ gramos, se deben tener **por lo menos** $8$ gramos de proteína y $6$ gramos de grasa. Así mismo, no se debe tener más de $2$ gramos de fibra y $0.4$ gramos de sal.  \n",
    "\n",
    "Los datos nutricionales se pueden obtener de la siguiente tabla:\n",
    "\n",
    "Ingrediente|Proteína|Grasa|Fibra|Sal\n",
    ":----|----|----|----|----\n",
    "Pollo|  10.0%|08.0%|00.1%|00.2%\n",
    "Carne|  20.0%|10.0%|00.5%|00.5%\n",
    "Cordero|15.0%|11.0%|00.5%|00.7%\n",
    "Arroz|  00.0%|01.0%|10.0%|00.2%\n",
    "Trigo|  04.0%|01.0%|15.0%|00.8%\n",
    "Gel|    00.0%|00.0%|00.0%|00.0%\n",
    "\n",
    "Los costos de cada producto son:\n",
    "\n",
    "Ingrediente|Costo por gramo\n",
    ":----|----\n",
    "Pollo|$\\$$0.013\n",
    "Carne|$\\$$0.008\n",
    "Cordero|$\\$$0.010\n",
    "Arroz|$\\$$0.002\n",
    "Trigo|$\\$$0.005\n",
    "Gel|$\\$$0.001    \n",
    "\n",
    "Lo que se busca optimizar en este caso es la cantidad de productos que se debe utilizar en la comida de gato, minimizando el costo total. Para simplificar la notación use las siguientes variables: \n",
    "\n",
    "+ $x_1:$ Gramos de pollo  \n",
    "+ $x_2:$ Gramos de carne  \n",
    "+ $x_3:$ Gramos de cordero  \n",
    "+ $x_4:$ Gramos de arroz  \n",
    "+ $x_5:$ Gramos de trigo  \n",
    "+ $x_6:$ Gramos de gel\n",
    "\n",
    "La tarea consiste en plantear el problemade programación lineal que permita satisfacer las necesidades alimenticias del gato al tiempo que minimice el costo total y resolverlo con `linprog`."
   ]
  },
  {
   "cell_type": "markdown",
   "metadata": {},
   "source": [
    "1. Definir criterio de optimización\n",
    "   - Minimizar\n",
    "2. Variables que afectan la función de costo\n",
    "   - $xp$, $xc$, $xo$, $xa$, $xt$, $xg$\n",
    "3. Función de costo\n",
    "   - 0.013 xp + 0.008 xc + 0.010 xo + 0.002 xa + 0.005 xt + 0.001 xg\n",
    "4. Información adicional\n",
    "   - xp + xc + xo + xa + xa + xt + xg = 1\n",
    "   - 0.10 xp + 0.20 xc + 0.15 xo + 0.04 xt ≤ 8\n",
    "   - 0.08 xp + 0.10 xc + 0.11 xo + 0.01 xa + 0.01 xt ≤ 6\n",
    "   - 0.001 xp + 0.005 xc + 0.005 xo + 0.10 xa + 0.15 xt ≤ 2\n",
    "   - 0.002 xp + 0.005 xc + 0.007 xo + 0.002 xa + 0.008 xt ≤ 0.4"
   ]
  },
  {
   "cell_type": "code",
   "execution_count": 7,
   "metadata": {},
   "outputs": [],
   "source": [
    "import scipy.optimize as opt\n",
    "import numpy as np \n",
    "\n",
    "c = np.array([0.013, \n",
    "              0.008,\n",
    "              0.010,\n",
    "              0.002,\n",
    "              0.005,\n",
    "              0.001])\n",
    "\n",
    "Aub = np.array([\n",
    "    [-0.10, -0.20, -0.15, -0, -0.04, -0],\n",
    "    [-0.08, -0.10, -0.11, -0.01, -0.01, -0],\n",
    "    [0.001, 0.005, 0.005, 0.10, 0.15, 0],\n",
    "    [0.002, 0.005, 0.007, 0.002, 0.008, 0]\n",
    "])\n",
    "\n",
    "bub = np.array([-8,\n",
    "                -6,\n",
    "                2,\n",
    "                0.4\n",
    "               ])\n",
    "\n",
    "\n",
    "Aeq = np.array([[1, 1, 1, 1, 1, 1]])\n",
    "\n",
    "\n",
    "beq = np.array([[100]])\n"
   ]
  },
  {
   "cell_type": "code",
   "execution_count": 8,
   "metadata": {},
   "outputs": [
    {
     "data": {
      "text/plain": [
       "           con: array([0.])\n",
       " crossover_nit: 0\n",
       "         eqlin:  marginals: array([0.001])\n",
       "  residual: array([0.])\n",
       "           fun: 0.52\n",
       "       ineqlin:  marginals: array([-0.  , -0.07, -0.  , -0.  ])\n",
       "  residual: array([4. , 0. , 1.7, 0.1])\n",
       "         lower:  marginals: array([0.0064, 0.    , 0.0013, 0.0003, 0.0033, 0.    ])\n",
       "  residual: array([ 0., 60.,  0.,  0.,  0., 40.])\n",
       "       message: 'Optimization terminated successfully. (HiGHS Status 7: Optimal)'\n",
       "           nit: 2\n",
       "         slack: array([4. , 0. , 1.7, 0.1])\n",
       "        status: 0\n",
       "       success: True\n",
       "         upper:  marginals: array([0., 0., 0., 0., 0., 0.])\n",
       "  residual: array([inf, inf, inf, inf, inf, inf])\n",
       "             x: array([ 0., 60.,  0.,  0.,  0., 40.])"
      ]
     },
     "execution_count": 8,
     "metadata": {},
     "output_type": "execute_result"
    }
   ],
   "source": [
    "opt.linprog(c, Aub, bub, Aeq, beq)"
   ]
  },
  {
   "cell_type": "markdown",
   "metadata": {},
   "source": [
    "Para minimizar el costo total, necesatarias 60 de carne y 40 de gel; de todo lo demás 0."
   ]
  },
  {
   "cell_type": "markdown",
   "metadata": {},
   "source": [
    "### Problema de distribución de energía eléctrica\n",
    "\n",
    "La Comisión Federal de Electricidad **(CFE)** dispone de cuatro plantas de generación para satisfacer la demanda diaria eléctrica en cuatro ciudades, Guadalajara, León y Morelia. Las plantas $1$, $2$ y $3$ pueden satisfacer $80$, $40$ y $60$ millones de KW al día respectivamente. Las necesidades de las ciudades de Guadalajara, León y Morelia son de $70$, $40$ y $70$ millones de Kw al día respectivamente. \n",
    "\n",
    "\n",
    "Los costos asociados al envío de suministro energético por cada millón de Kw entre cada planta y cada ciudad son los registrados en la siguiente tabla. \n",
    "\n",
    "-|Guadalajara|León|Morelia\n",
    ":----|----|----|----\n",
    "Planta 1|5|2|7\n",
    "Planta 2|3|6|6\n",
    "Planta 3|6|1|2\n",
    "\n",
    "Y por último, las restricciones del problema, van a estar dadas por las capacidades de oferta y demanda de cada planta (en millones de KW) y cada ciudad.\n",
    "\n",
    "Para simplificar la notación use las siguientes variables:\n",
    "\n",
    "+ $x_1$: Kw (en millones) distribuidos de la Planta 1 a Guadalajara\n",
    "+ $x_2$: Kw (en millones) distribuidos de la Planta 1 a León\n",
    "+ $x_3$: Kw (en millones) distribuidos de la Planta 1 a Morelia\n",
    "+ $x_4$: Kw (en millones) distribuidos de la Planta 2 a Guadalajara\n",
    "+ $x_5$: Kw (en millones) distribuidos de la Planta 2 a León\n",
    "+ $x_6$: Kw (en millones) distribuidos de la Planta 2 a Morelia\n",
    "+ $x_7$: Kw (en millones) distribuidos de la Planta 3 a Guadalajara\n",
    "+ $x_8$: Kw (en millones) distribuidos de la Planta 3 a León\n",
    "+ $x_9$: Kw (en millones) distribuidos de la Planta 3 a Morelia\n",
    "\n",
    "La tarea consiste en plantear el problema de programación lineal que permita satisfacer las necesidades de todas las ciudades al tiempo que minimice los costos asociados a la distribución y resolverlo con `linprog`."
   ]
  },
  {
   "cell_type": "markdown",
   "metadata": {},
   "source": [
    "1. Definir criterio de optimización\n",
    "   - Minimizar\n",
    "2. Variables que afectan la función de costo\n",
    "   - $x_{p1G} + x_{p1L} + x_{p1M} + x_{p2G} + x_{p2L} + x_{p2M} + x_{p3G} + x_{p3L} + x_{p3M}$\n",
    "3. Función de costo\n",
    "   - $$\\min_{x_1,\\dots,x_9}5x_{p1G} + 2x_{p1L} + 7x_{p1M} + 3x_{p2G} + 6x_{p2L} + 6x_{p2M} + 6x_{p3G} + x_{p3L} + 2x_{p3M}$$\n",
    "\n",
    "4. Información adicional\n",
    "   - $x_{p1G} + x_{p1L} + x_{p1M} ≤ 80 $\n",
    "   - $x_{p2G} + x_{p2L} + x_{p2M} ≤ 40 $\n",
    "   - $x_{p3G} + x_{p3L} + x_{p3M} ≤ 60 $\n",
    "   - $x_{p1G} + x_{p2G} + x_{p3G} = 70 $\n",
    "   - $x_{p1L} + x_{p2L} + x_{p3L} = 40 $\n",
    "   - $x_{p1M} + x_{p2M} + x_{p3M} = 70 $"
   ]
  },
  {
   "cell_type": "code",
   "execution_count": null,
   "metadata": {},
   "outputs": [],
   "source": [
    "import scipy.optimize as opt\n",
    "import numpy as np \n",
    "\n",
    "c = n.array([5,\n",
    "             2,\n",
    "             7,\n",
    "             3,\n",
    "             6,\n",
    "             6,\n",
    "             1,\n",
    "             2])\n",
    "\n",
    "Aub = \n",
    "\n",
    "\n",
    "\n",
    "bub = \n",
    "\n",
    "\n",
    "\n",
    "\n",
    "Aeq = \n",
    "\n",
    "\n",
    "beq = "
   ]
  },
  {
   "cell_type": "code",
   "execution_count": null,
   "metadata": {},
   "outputs": [],
   "source": []
  },
  {
   "cell_type": "code",
   "execution_count": null,
   "metadata": {},
   "outputs": [],
   "source": []
  }
 ],
 "metadata": {
  "kernelspec": {
   "display_name": "Python 3 (ipykernel)",
   "language": "python",
   "name": "python3"
  },
  "language_info": {
   "codemirror_mode": {
    "name": "ipython",
    "version": 3
   },
   "file_extension": ".py",
   "mimetype": "text/x-python",
   "name": "python",
   "nbconvert_exporter": "python",
   "pygments_lexer": "ipython3",
   "version": "3.9.13"
  }
 },
 "nbformat": 4,
 "nbformat_minor": 2
}
